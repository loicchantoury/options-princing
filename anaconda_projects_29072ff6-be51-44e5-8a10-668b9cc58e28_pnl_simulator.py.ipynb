{
 "cells": [
  {
   "cell_type": "code",
   "execution_count": null,
   "id": "3d94e7dc-c0c3-404c-8c0d-9672cec62e5f",
   "metadata": {},
   "outputs": [],
   "source": []
  }
 ],
 "metadata": {
  "kernelspec": {
   "display_name": "",
   "name": ""
  },
  "language_info": {
   "name": ""
  }
 },
 "nbformat": 4,
 "nbformat_minor": 5
}
